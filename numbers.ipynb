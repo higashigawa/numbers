{
 "cells": [
  {
   "cell_type": "code",
   "execution_count": 1,
   "metadata": {},
   "outputs": [
    {
     "name": "stdout",
     "output_type": "stream",
     "text": [
      "Input number.\n"
     ]
    },
    {
     "name": "stdin",
     "output_type": "stream",
     "text": [
      " \n"
     ]
    },
    {
     "name": "stdout",
     "output_type": "stream",
     "text": [
      "[17  6 18 14  3 34]\n",
      "[32  8 14 21 33  6]\n",
      "[24 31  8 30  1  9]\n",
      "[11 20 36  6 23 33]\n",
      "[23 21 24 18 22 17]\n",
      "[26  7 36 15 29 24]\n",
      "[21 13  8  5 14 20]\n",
      "[30 16  3 22 25  5]\n",
      "[16  9 22 14 28 23]\n",
      "[30 11 28  9 16 34]\n"
     ]
    }
   ],
   "source": [
    "import numpy as np\n",
    "import time\n",
    "\n",
    "print('Input number.')\n",
    "count = input()\n",
    "if count is None or count == '':\n",
    "    count = 10\n",
    "for i in range(int(count)):\n",
    "    a = np.array([1,2,3,4,5,6,7,8,9,10,\n",
    "                  11,12,13,14,15,16,17,18,20,\n",
    "                  21,22,23,24,25,26,27,28,29,30,\n",
    "                  31,32,33,34,35,36])\n",
    "    num_list = np.random.choice(a, 6,replace=False)\n",
    "    print(num_list)\n",
    "\n",
    "#time.sleep(3600)"
   ]
  }
 ],
 "metadata": {
  "kernelspec": {
   "display_name": "Python 3",
   "language": "python",
   "name": "python3"
  },
  "language_info": {
   "codemirror_mode": {
    "name": "ipython",
    "version": 3
   },
   "file_extension": ".py",
   "mimetype": "text/x-python",
   "name": "python",
   "nbconvert_exporter": "python",
   "pygments_lexer": "ipython3",
   "version": "3.7.7"
  }
 },
 "nbformat": 4,
 "nbformat_minor": 4
}
